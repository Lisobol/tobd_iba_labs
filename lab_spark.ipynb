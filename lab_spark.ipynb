{
 "cells": [
  {
   "cell_type": "code",
   "execution_count": 1,
   "id": "f773454e",
   "metadata": {},
   "outputs": [],
   "source": [
    "from pyspark.sql import SparkSession"
   ]
  },
  {
   "cell_type": "code",
   "execution_count": 2,
   "id": "dcba42bc",
   "metadata": {},
   "outputs": [],
   "source": [
    "spark=SparkSession.builder.appName('name').getOrCreate()"
   ]
  },
  {
   "cell_type": "markdown",
   "id": "0af15e20",
   "metadata": {},
   "source": [
    "# Для RDD и Dataframes\n",
    "- Прочитать датасет и вывести первые 20 записей\n",
    "- Посчитать количество слов во всех твитах датасета\n",
    "- Посчитать количество уникальных слов во всех твитах"
   ]
  },
  {
   "cell_type": "markdown",
   "id": "ce9a1725",
   "metadata": {},
   "source": [
    "### Dataframes Прочитать датасет и вывести первые 20 записей"
   ]
  },
  {
   "cell_type": "code",
   "execution_count": 3,
   "id": "978c298f",
   "metadata": {},
   "outputs": [],
   "source": [
    "from pyspark.sql.types import StructType, StructField, IntegerType, StringType\n",
    "\n",
    "schema = StructType([\n",
    "    StructField(\"target\", IntegerType(), True),\n",
    "    StructField(\"ids\", IntegerType(), True),\n",
    "    StructField(\"date\", StringType(), True),\n",
    "    StructField(\"flag\", StringType(), True),\n",
    "    StructField(\"user\", StringType(), True),\n",
    "    StructField(\"text\", StringType(), True)])\n",
    "df = spark.read.csv(\"training.1600000.processed.noemoticon.csv\", header=False, schema=schema)"
   ]
  },
  {
   "cell_type": "code",
   "execution_count": 4,
   "id": "40e0068e",
   "metadata": {},
   "outputs": [
    {
     "name": "stdout",
     "output_type": "stream",
     "text": [
      "+------+----------+--------------------+--------+---------------+--------------------+\n",
      "|target|       ids|                date|    flag|           user|                text|\n",
      "+------+----------+--------------------+--------+---------------+--------------------+\n",
      "|     0|1467810369|Mon Apr 06 22:19:...|NO_QUERY|_TheSpecialOne_|@switchfoot http:...|\n",
      "|     0|1467810672|Mon Apr 06 22:19:...|NO_QUERY|  scotthamilton|is upset that he ...|\n",
      "|     0|1467810917|Mon Apr 06 22:19:...|NO_QUERY|       mattycus|@Kenichan I dived...|\n",
      "|     0|1467811184|Mon Apr 06 22:19:...|NO_QUERY|        ElleCTF|my whole body fee...|\n",
      "|     0|1467811193|Mon Apr 06 22:19:...|NO_QUERY|         Karoli|@nationwideclass ...|\n",
      "|     0|1467811372|Mon Apr 06 22:20:...|NO_QUERY|       joy_wolf|@Kwesidei not the...|\n",
      "|     0|1467811592|Mon Apr 06 22:20:...|NO_QUERY|        mybirch|         Need a hug |\n",
      "|     0|1467811594|Mon Apr 06 22:20:...|NO_QUERY|           coZZ|@LOLTrish hey  lo...|\n",
      "|     0|1467811795|Mon Apr 06 22:20:...|NO_QUERY|2Hood4Hollywood|@Tatiana_K nope t...|\n",
      "|     0|1467812025|Mon Apr 06 22:20:...|NO_QUERY|        mimismo|@twittera que me ...|\n",
      "|     0|1467812416|Mon Apr 06 22:20:...|NO_QUERY| erinx3leannexo|spring break in p...|\n",
      "|     0|1467812579|Mon Apr 06 22:20:...|NO_QUERY|   pardonlauren|I just re-pierced...|\n",
      "|     0|1467812723|Mon Apr 06 22:20:...|NO_QUERY|           TLeC|@caregiving I cou...|\n",
      "|     0|1467812771|Mon Apr 06 22:20:...|NO_QUERY|robrobbierobert|@octolinz16 It it...|\n",
      "|     0|1467812784|Mon Apr 06 22:20:...|NO_QUERY|    bayofwolves|@smarrison i woul...|\n",
      "|     0|1467812799|Mon Apr 06 22:20:...|NO_QUERY|     HairByJess|@iamjazzyfizzle I...|\n",
      "|     0|1467812964|Mon Apr 06 22:20:...|NO_QUERY| lovesongwriter|Hollis' death sce...|\n",
      "|     0|1467813137|Mon Apr 06 22:20:...|NO_QUERY|       armotley|about to file taxes |\n",
      "|     0|1467813579|Mon Apr 06 22:20:...|NO_QUERY|     starkissed|@LettyA ahh ive a...|\n",
      "|     0|1467813782|Mon Apr 06 22:20:...|NO_QUERY|      gi_gi_bee|@FakerPattyPattz ...|\n",
      "+------+----------+--------------------+--------+---------------+--------------------+\n",
      "only showing top 20 rows\n",
      "\n"
     ]
    }
   ],
   "source": [
    "df.show()"
   ]
  },
  {
   "cell_type": "markdown",
   "id": "929b1046",
   "metadata": {},
   "source": [
    "### RDD Прочитать датасет и вывести первые 20 записей"
   ]
  },
  {
   "cell_type": "code",
   "execution_count": 5,
   "id": "a47a69d1",
   "metadata": {},
   "outputs": [],
   "source": [
    "sc = spark.sparkContext"
   ]
  },
  {
   "cell_type": "code",
   "execution_count": 6,
   "id": "5658a79c",
   "metadata": {},
   "outputs": [],
   "source": [
    "rdd_df = sc.textFile(\"training.1600000.processed.noemoticon.csv\")\n",
    "rdd_df = rdd_df.map(lambda line: line.replace('\\\"','').split(\",\"))\n",
    "rdd_df = rdd_df.map(lambda line: line[:5] + [','.join(line[5:])])\n",
    "first_row=rdd_df.first()\n",
    "rdd_data = rdd_df.filter(lambda line: line != first_row)"
   ]
  },
  {
   "cell_type": "code",
   "execution_count": 7,
   "id": "f0c593f9",
   "metadata": {
    "scrolled": false
   },
   "outputs": [
    {
     "data": {
      "text/plain": [
       "[['0',\n",
       "  '1467810672',\n",
       "  'Mon Apr 06 22:19:49 PDT 2009',\n",
       "  'NO_QUERY',\n",
       "  'scotthamilton',\n",
       "  \"is upset that he can't update his Facebook by texting it... and might cry as a result  School today also. Blah!\"],\n",
       " ['0',\n",
       "  '1467810917',\n",
       "  'Mon Apr 06 22:19:53 PDT 2009',\n",
       "  'NO_QUERY',\n",
       "  'mattycus',\n",
       "  '@Kenichan I dived many times for the ball. Managed to save 50%  The rest go out of bounds'],\n",
       " ['0',\n",
       "  '1467811184',\n",
       "  'Mon Apr 06 22:19:57 PDT 2009',\n",
       "  'NO_QUERY',\n",
       "  'ElleCTF',\n",
       "  'my whole body feels itchy and like its on fire '],\n",
       " ['0',\n",
       "  '1467811193',\n",
       "  'Mon Apr 06 22:19:57 PDT 2009',\n",
       "  'NO_QUERY',\n",
       "  'Karoli',\n",
       "  \"@nationwideclass no, it's not behaving at all. i'm mad. why am i here? because I can't see you all over there. \"],\n",
       " ['0',\n",
       "  '1467811372',\n",
       "  'Mon Apr 06 22:20:00 PDT 2009',\n",
       "  'NO_QUERY',\n",
       "  'joy_wolf',\n",
       "  '@Kwesidei not the whole crew '],\n",
       " ['0',\n",
       "  '1467811592',\n",
       "  'Mon Apr 06 22:20:03 PDT 2009',\n",
       "  'NO_QUERY',\n",
       "  'mybirch',\n",
       "  'Need a hug '],\n",
       " ['0',\n",
       "  '1467811594',\n",
       "  'Mon Apr 06 22:20:03 PDT 2009',\n",
       "  'NO_QUERY',\n",
       "  'coZZ',\n",
       "  \"@LOLTrish hey  long time no see! Yes.. Rains a bit ,only a bit  LOL , I'm fine thanks , how's you ?\"],\n",
       " ['0',\n",
       "  '1467811795',\n",
       "  'Mon Apr 06 22:20:05 PDT 2009',\n",
       "  'NO_QUERY',\n",
       "  '2Hood4Hollywood',\n",
       "  \"@Tatiana_K nope they didn't have it \"],\n",
       " ['0',\n",
       "  '1467812025',\n",
       "  'Mon Apr 06 22:20:09 PDT 2009',\n",
       "  'NO_QUERY',\n",
       "  'mimismo',\n",
       "  '@twittera que me muera ? '],\n",
       " ['0',\n",
       "  '1467812416',\n",
       "  'Mon Apr 06 22:20:16 PDT 2009',\n",
       "  'NO_QUERY',\n",
       "  'erinx3leannexo',\n",
       "  \"spring break in plain city... it's snowing \"],\n",
       " ['0',\n",
       "  '1467812579',\n",
       "  'Mon Apr 06 22:20:17 PDT 2009',\n",
       "  'NO_QUERY',\n",
       "  'pardonlauren',\n",
       "  'I just re-pierced my ears '],\n",
       " ['0',\n",
       "  '1467812723',\n",
       "  'Mon Apr 06 22:20:19 PDT 2009',\n",
       "  'NO_QUERY',\n",
       "  'TLeC',\n",
       "  \"@caregiving I couldn't bear to watch it.  And I thought the UA loss was embarrassing . . . . .\"],\n",
       " ['0',\n",
       "  '1467812771',\n",
       "  'Mon Apr 06 22:20:19 PDT 2009',\n",
       "  'NO_QUERY',\n",
       "  'robrobbierobert',\n",
       "  '@octolinz16 It it counts, idk why I did either. you never talk to me anymore '],\n",
       " ['0',\n",
       "  '1467812784',\n",
       "  'Mon Apr 06 22:20:20 PDT 2009',\n",
       "  'NO_QUERY',\n",
       "  'bayofwolves',\n",
       "  \"@smarrison i would've been the first, but i didn't have a gun.    not really though, zac snyder's just a doucheclown.\"],\n",
       " ['0',\n",
       "  '1467812799',\n",
       "  'Mon Apr 06 22:20:20 PDT 2009',\n",
       "  'NO_QUERY',\n",
       "  'HairByJess',\n",
       "  '@iamjazzyfizzle I wish I got to watch it with you!! I miss you and @iamlilnicki  how was the premiere?!'],\n",
       " ['0',\n",
       "  '1467812964',\n",
       "  'Mon Apr 06 22:20:22 PDT 2009',\n",
       "  'NO_QUERY',\n",
       "  'lovesongwriter',\n",
       "  \"Hollis' death scene will hurt me severely to watch on film  wry is directors cut not out now?\"],\n",
       " ['0',\n",
       "  '1467813137',\n",
       "  'Mon Apr 06 22:20:25 PDT 2009',\n",
       "  'NO_QUERY',\n",
       "  'armotley',\n",
       "  'about to file taxes '],\n",
       " ['0',\n",
       "  '1467813579',\n",
       "  'Mon Apr 06 22:20:31 PDT 2009',\n",
       "  'NO_QUERY',\n",
       "  'starkissed',\n",
       "  '@LettyA ahh ive always wanted to see rent  love the soundtrack!!'],\n",
       " ['0',\n",
       "  '1467813782',\n",
       "  'Mon Apr 06 22:20:34 PDT 2009',\n",
       "  'NO_QUERY',\n",
       "  'gi_gi_bee',\n",
       "  '@FakerPattyPattz Oh dear. Were you drinking out of the forgotten table drinks? '],\n",
       " ['0',\n",
       "  '1467813985',\n",
       "  'Mon Apr 06 22:20:37 PDT 2009',\n",
       "  'NO_QUERY',\n",
       "  'quanvu',\n",
       "  \"@alydesigns i was out most of the day so didn't get much done \"]]"
      ]
     },
     "execution_count": 7,
     "metadata": {},
     "output_type": "execute_result"
    }
   ],
   "source": [
    "rdd_data.take(20)"
   ]
  },
  {
   "cell_type": "code",
   "execution_count": 8,
   "id": "692a86e3",
   "metadata": {},
   "outputs": [],
   "source": [
    "from pyspark.sql import Row"
   ]
  },
  {
   "cell_type": "code",
   "execution_count": 9,
   "id": "ba88fbf6",
   "metadata": {},
   "outputs": [],
   "source": [
    "rdd_rows = rdd_data.map(lambda row:\n",
    "                        Row(target=int(row[0]), ids=int(row[1]),\n",
    "                            date=row[2], flag=row[3], user=row[4],\n",
    "                            text=row[5]))"
   ]
  },
  {
   "cell_type": "code",
   "execution_count": 10,
   "id": "f6518dbe",
   "metadata": {},
   "outputs": [
    {
     "data": {
      "text/plain": [
       "[Row(target=0, ids=1467810672, date='Mon Apr 06 22:19:49 PDT 2009', flag='NO_QUERY', user='scotthamilton', text=\"is upset that he can't update his Facebook by texting it... and might cry as a result  School today also. Blah!\"),\n",
       " Row(target=0, ids=1467810917, date='Mon Apr 06 22:19:53 PDT 2009', flag='NO_QUERY', user='mattycus', text='@Kenichan I dived many times for the ball. Managed to save 50%  The rest go out of bounds'),\n",
       " Row(target=0, ids=1467811184, date='Mon Apr 06 22:19:57 PDT 2009', flag='NO_QUERY', user='ElleCTF', text='my whole body feels itchy and like its on fire '),\n",
       " Row(target=0, ids=1467811193, date='Mon Apr 06 22:19:57 PDT 2009', flag='NO_QUERY', user='Karoli', text=\"@nationwideclass no, it's not behaving at all. i'm mad. why am i here? because I can't see you all over there. \"),\n",
       " Row(target=0, ids=1467811372, date='Mon Apr 06 22:20:00 PDT 2009', flag='NO_QUERY', user='joy_wolf', text='@Kwesidei not the whole crew '),\n",
       " Row(target=0, ids=1467811592, date='Mon Apr 06 22:20:03 PDT 2009', flag='NO_QUERY', user='mybirch', text='Need a hug '),\n",
       " Row(target=0, ids=1467811594, date='Mon Apr 06 22:20:03 PDT 2009', flag='NO_QUERY', user='coZZ', text=\"@LOLTrish hey  long time no see! Yes.. Rains a bit ,only a bit  LOL , I'm fine thanks , how's you ?\"),\n",
       " Row(target=0, ids=1467811795, date='Mon Apr 06 22:20:05 PDT 2009', flag='NO_QUERY', user='2Hood4Hollywood', text=\"@Tatiana_K nope they didn't have it \"),\n",
       " Row(target=0, ids=1467812025, date='Mon Apr 06 22:20:09 PDT 2009', flag='NO_QUERY', user='mimismo', text='@twittera que me muera ? '),\n",
       " Row(target=0, ids=1467812416, date='Mon Apr 06 22:20:16 PDT 2009', flag='NO_QUERY', user='erinx3leannexo', text=\"spring break in plain city... it's snowing \"),\n",
       " Row(target=0, ids=1467812579, date='Mon Apr 06 22:20:17 PDT 2009', flag='NO_QUERY', user='pardonlauren', text='I just re-pierced my ears '),\n",
       " Row(target=0, ids=1467812723, date='Mon Apr 06 22:20:19 PDT 2009', flag='NO_QUERY', user='TLeC', text=\"@caregiving I couldn't bear to watch it.  And I thought the UA loss was embarrassing . . . . .\"),\n",
       " Row(target=0, ids=1467812771, date='Mon Apr 06 22:20:19 PDT 2009', flag='NO_QUERY', user='robrobbierobert', text='@octolinz16 It it counts, idk why I did either. you never talk to me anymore '),\n",
       " Row(target=0, ids=1467812784, date='Mon Apr 06 22:20:20 PDT 2009', flag='NO_QUERY', user='bayofwolves', text=\"@smarrison i would've been the first, but i didn't have a gun.    not really though, zac snyder's just a doucheclown.\"),\n",
       " Row(target=0, ids=1467812799, date='Mon Apr 06 22:20:20 PDT 2009', flag='NO_QUERY', user='HairByJess', text='@iamjazzyfizzle I wish I got to watch it with you!! I miss you and @iamlilnicki  how was the premiere?!'),\n",
       " Row(target=0, ids=1467812964, date='Mon Apr 06 22:20:22 PDT 2009', flag='NO_QUERY', user='lovesongwriter', text=\"Hollis' death scene will hurt me severely to watch on film  wry is directors cut not out now?\"),\n",
       " Row(target=0, ids=1467813137, date='Mon Apr 06 22:20:25 PDT 2009', flag='NO_QUERY', user='armotley', text='about to file taxes '),\n",
       " Row(target=0, ids=1467813579, date='Mon Apr 06 22:20:31 PDT 2009', flag='NO_QUERY', user='starkissed', text='@LettyA ahh ive always wanted to see rent  love the soundtrack!!'),\n",
       " Row(target=0, ids=1467813782, date='Mon Apr 06 22:20:34 PDT 2009', flag='NO_QUERY', user='gi_gi_bee', text='@FakerPattyPattz Oh dear. Were you drinking out of the forgotten table drinks? '),\n",
       " Row(target=0, ids=1467813985, date='Mon Apr 06 22:20:37 PDT 2009', flag='NO_QUERY', user='quanvu', text=\"@alydesigns i was out most of the day so didn't get much done \")]"
      ]
     },
     "execution_count": 10,
     "metadata": {},
     "output_type": "execute_result"
    }
   ],
   "source": [
    "rdd_rows.take(20)"
   ]
  },
  {
   "cell_type": "markdown",
   "id": "65c09b99",
   "metadata": {},
   "source": [
    "### Dataframes Посчитать количество слов во всех твитах датасета"
   ]
  },
  {
   "cell_type": "code",
   "execution_count": 11,
   "id": "2a3df893",
   "metadata": {},
   "outputs": [],
   "source": [
    "import pyspark.sql.functions as f"
   ]
  },
  {
   "cell_type": "code",
   "execution_count": 12,
   "id": "e097fe23",
   "metadata": {},
   "outputs": [
    {
     "name": "stdout",
     "output_type": "stream",
     "text": [
      "[Row(sum(words_count)=23011409)]\n"
     ]
    }
   ],
   "source": [
    "df_words = df.withColumn('words_count', f.size(f.split(f.col('text'), ' ')))\n",
    "print(df_words.select(f.sum('words_count')).collect())"
   ]
  },
  {
   "cell_type": "markdown",
   "id": "897c91fc",
   "metadata": {},
   "source": [
    "### RDD Посчитать количество слов во всех твитах датасета"
   ]
  },
  {
   "cell_type": "code",
   "execution_count": 13,
   "id": "55af2a6d",
   "metadata": {},
   "outputs": [
    {
     "data": {
      "text/plain": [
       "23011389"
      ]
     },
     "execution_count": 13,
     "metadata": {},
     "output_type": "execute_result"
    }
   ],
   "source": [
    "rdd_rows.map(lambda row: (row.ids, len((row.text.split(' '))))).values().sum()"
   ]
  },
  {
   "cell_type": "markdown",
   "id": "c7322c5d",
   "metadata": {},
   "source": [
    "### Dataframes Посчитать количество уникальных слов во всех твитах"
   ]
  },
  {
   "cell_type": "code",
   "execution_count": 14,
   "id": "b2713b09",
   "metadata": {},
   "outputs": [
    {
     "data": {
      "text/plain": [
       "1193359"
      ]
     },
     "execution_count": 14,
     "metadata": {},
     "output_type": "execute_result"
    }
   ],
   "source": [
    "df.withColumn('text',f.lower(f.col('text')))\\\n",
    ".withColumn('words',f.array_remove(f.split(f.col('text'),' '), ''))\\\n",
    ".withColumn('word',f.explode(f.col('words')))\\\n",
    ".select('word').dropDuplicates().count()"
   ]
  },
  {
   "cell_type": "markdown",
   "id": "39b67a89",
   "metadata": {},
   "source": [
    "### RDD Посчитать количество уникальных слов во всех твитах"
   ]
  },
  {
   "cell_type": "code",
   "execution_count": 15,
   "id": "e14cb697",
   "metadata": {},
   "outputs": [
    {
     "data": {
      "text/plain": [
       "1193153"
      ]
     },
     "execution_count": 15,
     "metadata": {},
     "output_type": "execute_result"
    }
   ],
   "source": [
    "rdd_rows.flatMap(lambda row: row.text.lower().split())\\\n",
    "    .map(lambda word: (word,1))\\\n",
    "    .reduceByKey(lambda a, b: a + b).keys().count()"
   ]
  },
  {
   "cell_type": "markdown",
   "id": "0d41b22a",
   "metadata": {},
   "source": [
    "# Для Dataframe или RDD\n",
    "- Найти пользователей с наибольшим числом постов и вывести первые 20 из них\n",
    "- Найти пользователей с наибольшим числом слов\n",
    "- Найти пользователей с наибольшим количеством упоминаний( может не встречаться в датасете? упоминанием считать вхождение @username в твит)\n",
    "- Посчитать наиболее популярные для твитов дни и вывести их в порядке убывания\n",
    "- Посчитать наиболее популярные часы для твитов"
   ]
  },
  {
   "cell_type": "markdown",
   "id": "9cd6e463",
   "metadata": {},
   "source": [
    "### Dataframe Найти пользователей с наибольшим числом постов и вывести первые 20 из них"
   ]
  },
  {
   "cell_type": "code",
   "execution_count": 16,
   "id": "fac683d0",
   "metadata": {},
   "outputs": [
    {
     "name": "stdout",
     "output_type": "stream",
     "text": [
      "+--------------+------------+\n",
      "|          user|tweets_count|\n",
      "+--------------+------------+\n",
      "|       webwoke|         345|\n",
      "|      lost_dog|         319|\n",
      "|      tweetpet|         310|\n",
      "|   mcraddictal|         276|\n",
      "|      tsarnick|         248|\n",
      "|   what_bugs_u|         246|\n",
      "|     DarkPiano|         236|\n",
      "|   VioletsCRUK|         228|\n",
      "|        keza34|         219|\n",
      "|ramdomthoughts|         214|\n",
      "|        wowlew|         212|\n",
      "|  TraceyHewins|         211|\n",
      "|  thisgoeshere|         207|\n",
      "|  SongoftheOss|         199|\n",
      "|     shanajaca|         195|\n",
      "|       Dogbook|         192|\n",
      "|     Jayme1988|         189|\n",
      "|    nuttychris|         184|\n",
      "|        Djalfy|         182|\n",
      "|    twebbstack|         180|\n",
      "+--------------+------------+\n",
      "only showing top 20 rows\n",
      "\n"
     ]
    }
   ],
   "source": [
    "df.groupby('user').agg(f.countDistinct('ids').alias('tweets_count'))\\\n",
    "    .sort(f.col('tweets_count').desc()).show()"
   ]
  },
  {
   "cell_type": "markdown",
   "id": "68cd59a0",
   "metadata": {},
   "source": [
    "### Dataframe Найти пользователей с наибольшим числом слов"
   ]
  },
  {
   "cell_type": "code",
   "execution_count": 17,
   "id": "5d9163bb",
   "metadata": {},
   "outputs": [
    {
     "name": "stdout",
     "output_type": "stream",
     "text": [
      "+---------------+---------+\n",
      "|           user|all_words|\n",
      "+---------------+---------+\n",
      "|       lost_dog|     6588|\n",
      "|    what_bugs_u|     5177|\n",
      "|    VioletsCRUK|     5108|\n",
      "|SallytheShizzle|     4480|\n",
      "|      shanajaca|     3698|\n",
      "| felicityfuller|     3626|\n",
      "|   SongoftheOss|     3436|\n",
      "|          StDAY|     3341|\n",
      "|     nuttychris|     3309|\n",
      "| ramdomthoughts|     3229|\n",
      "|       tsarnick|     3170|\n",
      "|    mcraddictal|     3145|\n",
      "|     Spidersamm|     3028|\n",
      "|   JessMcFlyxxx|     2989|\n",
      "|   thisgoeshere|     2977|\n",
      "|    linnetwoods|     2928|\n",
      "|    Dutchrudder|     2897|\n",
      "|MTVnHollyWEST23|     2821|\n",
      "| JBnVFCLover786|     2785|\n",
      "|torilovesbradie|     2748|\n",
      "+---------------+---------+\n",
      "only showing top 20 rows\n",
      "\n"
     ]
    }
   ],
   "source": [
    "df.withColumn('text',f.lower(f.col('text')))\\\n",
    "    .withColumn('words', f.split(f.col('text'), ' '))\\\n",
    "    .withColumn('words_count', f.size(f.col('words')))\\\n",
    "    .groupby('user').agg(f.sum(f.col('words_count')).alias('all_words'))\\\n",
    "    .sort(f.col('all_words').desc()).show()"
   ]
  },
  {
   "cell_type": "markdown",
   "id": "10b4b5e8",
   "metadata": {},
   "source": [
    "### Dataframe Найти пользователей с наибольшим количеством упоминаний( может не встречаться в датасете? упоминанием считать вхождение @username в твит)"
   ]
  },
  {
   "cell_type": "code",
   "execution_count": 18,
   "id": "6c6bc49a",
   "metadata": {},
   "outputs": [
    {
     "name": "stdout",
     "output_type": "stream",
     "text": [
      "+----------------+--------------+\n",
      "|            word|mentions_count|\n",
      "+----------------+--------------+\n",
      "|     @mileycyrus|          3647|\n",
      "|       @tommcfly|          3229|\n",
      "|       @ddlovato|          2373|\n",
      "|  @jonasbrothers|          1581|\n",
      "|@jonathanrknight|          1120|\n",
      "|    @davidarchie|          1103|\n",
      "|   @jordanknight|           951|\n",
      "|   @mitchelmusso|           883|\n",
      "| @donniewahlberg|           866|\n",
      "|  @taylorswift13|           852|\n",
      "|    @dougiemcfly|           653|\n",
      "|    @selenagomez|           627|\n",
      "|     @dannymcfly|           579|\n",
      "|         @aplusk|           521|\n",
      "|         @youngq|           506|\n",
      "|    @gfalcone601|           477|\n",
      "|   @joeymcintyre|           471|\n",
      "|   @shaundiviney|           406|\n",
      "|      @tomfelton|           371|\n",
      "|   @kirstiealley|           371|\n",
      "+----------------+--------------+\n",
      "only showing top 20 rows\n",
      "\n"
     ]
    }
   ],
   "source": [
    "df.withColumn('text',f.lower(f.col('text')))\\\n",
    "    .withColumn('words', f.split(f.col('text'),' '))\\\n",
    "    .withColumn('word',f.explode(f.col('words')))\\\n",
    "    .filter((f.col('word').like('@%')) & (f.length(f.col('word')) > 1))\\\n",
    "    .groupby('word').agg(f.countDistinct('ids').alias('mentions_count'))\\\n",
    "    .sort(f.col('mentions_count').desc()).show()"
   ]
  },
  {
   "cell_type": "markdown",
   "id": "9c352e19",
   "metadata": {},
   "source": [
    "### Dataframe Посчитать наиболее популярные для твитов дни и вывести их в порядке убывания"
   ]
  },
  {
   "cell_type": "code",
   "execution_count": 19,
   "id": "a6425a91",
   "metadata": {},
   "outputs": [
    {
     "name": "stdout",
     "output_type": "stream",
     "text": [
      "+-----------+------------+\n",
      "|day_of_week|tweets_count|\n",
      "+-----------+------------+\n",
      "|        Sun|      319476|\n",
      "|        Sat|      285237|\n",
      "|        Mon|      188160|\n",
      "|        Fri|      182269|\n",
      "|        Tue|      100753|\n",
      "|        Wed|       46434|\n",
      "|        Thu|       43279|\n",
      "+-----------+------------+\n",
      "\n"
     ]
    }
   ],
   "source": [
    "df.withColumn('day_of_week',f.split(f.col('date'),' ').getItem(0))\\\n",
    "    .groupby('day_of_week').agg(f.countDistinct('ids').alias('tweets_count'))\\\n",
    "    .sort(f.col('tweets_count').desc()).show()"
   ]
  },
  {
   "cell_type": "markdown",
   "id": "9350700c",
   "metadata": {},
   "source": [
    "### Dataframe Посчитать наиболее популярные часы для твитов"
   ]
  },
  {
   "cell_type": "code",
   "execution_count": 20,
   "id": "140e47af",
   "metadata": {
    "scrolled": true
   },
   "outputs": [
    {
     "name": "stdout",
     "output_type": "stream",
     "text": [
      "+----+------------+\n",
      "|hour|tweets_count|\n",
      "+----+------------+\n",
      "|  23|       64142|\n",
      "|   7|       61875|\n",
      "|   0|       61357|\n",
      "|   6|       58974|\n",
      "|   1|       58840|\n",
      "|  22|       57862|\n",
      "|   2|       57655|\n",
      "|   4|       57411|\n",
      "|   5|       57341|\n",
      "|   3|       56543|\n",
      "|   8|       54297|\n",
      "|  21|       51039|\n",
      "|   9|       47972|\n",
      "|  11|       45149|\n",
      "|  10|       44934|\n",
      "|  20|       40927|\n",
      "|  19|       40598|\n",
      "|  12|       36845|\n",
      "|  18|       36777|\n",
      "|  16|       36725|\n",
      "+----+------------+\n",
      "only showing top 20 rows\n",
      "\n"
     ]
    }
   ],
   "source": [
    "df.withColumn('time',f.split(f.col('date'),' ').getItem(3))\\\n",
    "    .withColumn('hour',f.hour(f.to_timestamp(f.col('time'),'HH:mm:ss')))\\\n",
    "    .groupby('hour').agg(f.countDistinct('ids').alias('tweets_count'))\\\n",
    "    .sort(f.col('tweets_count').desc()).show()"
   ]
  },
  {
   "cell_type": "markdown",
   "id": "37339728",
   "metadata": {},
   "source": [
    "# Выполнить примеры из Basic Statistics"
   ]
  },
  {
   "cell_type": "markdown",
   "id": "0c13bad2",
   "metadata": {},
   "source": [
    "### Correlation"
   ]
  },
  {
   "cell_type": "code",
   "execution_count": 21,
   "id": "f325eb30",
   "metadata": {},
   "outputs": [
    {
     "name": "stdout",
     "output_type": "stream",
     "text": [
      "Pearson correlation matrix:\n",
      "DenseMatrix([[1.        , 0.05564149,        nan, 0.40047142],\n",
      "             [0.05564149, 1.        ,        nan, 0.91359586],\n",
      "             [       nan,        nan, 1.        ,        nan],\n",
      "             [0.40047142, 0.91359586,        nan, 1.        ]])\n",
      "Spearman correlation matrix:\n",
      "DenseMatrix([[1.        , 0.10540926,        nan, 0.4       ],\n",
      "             [0.10540926, 1.        ,        nan, 0.9486833 ],\n",
      "             [       nan,        nan, 1.        ,        nan],\n",
      "             [0.4       , 0.9486833 ,        nan, 1.        ]])\n"
     ]
    }
   ],
   "source": [
    "from pyspark.ml.linalg import Vectors\n",
    "from pyspark.ml.stat import Correlation\n",
    "\n",
    "data = [(Vectors.sparse(4, [(0, 1.0), (3, -2.0)]),),\n",
    "        (Vectors.dense([4.0, 5.0, 0.0, 3.0]),),\n",
    "        (Vectors.dense([6.0, 7.0, 0.0, 8.0]),),\n",
    "        (Vectors.sparse(4, [(0, 9.0), (3, 1.0)]),)]\n",
    "df = spark.createDataFrame(data, [\"features\"])\n",
    "\n",
    "r1 = Correlation.corr(df, \"features\").head()\n",
    "print(\"Pearson correlation matrix:\\n\" + str(r1[0]))\n",
    "\n",
    "r2 = Correlation.corr(df, \"features\", \"spearman\").head()\n",
    "print(\"Spearman correlation matrix:\\n\" + str(r2[0]))"
   ]
  },
  {
   "cell_type": "markdown",
   "id": "fc9a83cc",
   "metadata": {},
   "source": [
    "### ChiSquareTest"
   ]
  },
  {
   "cell_type": "code",
   "execution_count": 22,
   "id": "fcf94767",
   "metadata": {},
   "outputs": [
    {
     "name": "stdout",
     "output_type": "stream",
     "text": [
      "pValues: [0.6872892787909721,0.6822703303362126]\n",
      "degreesOfFreedom: [2, 3]\n",
      "statistics: [0.75,1.5]\n"
     ]
    }
   ],
   "source": [
    "from pyspark.ml.linalg import Vectors\n",
    "from pyspark.ml.stat import ChiSquareTest\n",
    "\n",
    "data = [(0.0, Vectors.dense(0.5, 10.0)),\n",
    "        (0.0, Vectors.dense(1.5, 20.0)),\n",
    "        (1.0, Vectors.dense(1.5, 30.0)),\n",
    "        (0.0, Vectors.dense(3.5, 30.0)),\n",
    "        (0.0, Vectors.dense(3.5, 40.0)),\n",
    "        (1.0, Vectors.dense(3.5, 40.0))]\n",
    "df = spark.createDataFrame(data, [\"label\", \"features\"])\n",
    "\n",
    "r = ChiSquareTest.test(df, \"features\", \"label\").head()\n",
    "print(\"pValues: \" + str(r.pValues))\n",
    "print(\"degreesOfFreedom: \" + str(r.degreesOfFreedom))\n",
    "print(\"statistics: \" + str(r.statistics))"
   ]
  },
  {
   "cell_type": "markdown",
   "id": "d95cdbc8",
   "metadata": {},
   "source": [
    "### Summarizer"
   ]
  },
  {
   "cell_type": "code",
   "execution_count": 23,
   "id": "6dafbef4",
   "metadata": {},
   "outputs": [
    {
     "name": "stdout",
     "output_type": "stream",
     "text": [
      "+-----------------------------------+\n",
      "|aggregate_metrics(features, weight)|\n",
      "+-----------------------------------+\n",
      "|{[1.0,1.0,1.0], 1}                 |\n",
      "+-----------------------------------+\n",
      "\n",
      "+--------------------------------+\n",
      "|aggregate_metrics(features, 1.0)|\n",
      "+--------------------------------+\n",
      "|{[1.0,1.5,2.0], 2}              |\n",
      "+--------------------------------+\n",
      "\n",
      "+--------------+\n",
      "|mean(features)|\n",
      "+--------------+\n",
      "|[1.0,1.0,1.0] |\n",
      "+--------------+\n",
      "\n",
      "+--------------+\n",
      "|mean(features)|\n",
      "+--------------+\n",
      "|[1.0,1.5,2.0] |\n",
      "+--------------+\n",
      "\n"
     ]
    }
   ],
   "source": [
    "from pyspark.ml.stat import Summarizer\n",
    "from pyspark.sql import Row\n",
    "from pyspark.ml.linalg import Vectors\n",
    "\n",
    "df = sc.parallelize([Row(weight=1.0, features=Vectors.dense(1.0, 1.0, 1.0)),\n",
    "                     Row(weight=0.0, features=Vectors.dense(1.0, 2.0, 3.0))]).toDF()\n",
    "\n",
    "# create summarizer for multiple metrics \"mean\" and \"count\"\n",
    "summarizer = Summarizer.metrics(\"mean\", \"count\")\n",
    "\n",
    "# compute statistics for multiple metrics with weight\n",
    "df.select(summarizer.summary(df.features, df.weight)).show(truncate=False)\n",
    "\n",
    "# compute statistics for multiple metrics without weight\n",
    "df.select(summarizer.summary(df.features)).show(truncate=False)\n",
    "\n",
    "# compute statistics for single metric \"mean\" with weight\n",
    "df.select(Summarizer.mean(df.features, df.weight)).show(truncate=False)\n",
    "\n",
    "# compute statistics for single metric \"mean\" without weight\n",
    "df.select(Summarizer.mean(df.features)).show(truncate=False)"
   ]
  },
  {
   "cell_type": "markdown",
   "id": "37875451",
   "metadata": {},
   "source": [
    "# Выполнить примеры из ML Pipelines"
   ]
  },
  {
   "cell_type": "markdown",
   "id": "a6f73037",
   "metadata": {},
   "source": [
    "### Estimator, Transformer, and Param"
   ]
  },
  {
   "cell_type": "code",
   "execution_count": 24,
   "id": "a15d469b",
   "metadata": {},
   "outputs": [
    {
     "name": "stdout",
     "output_type": "stream",
     "text": [
      "LogisticRegression parameters:\n",
      "aggregationDepth: suggested depth for treeAggregate (>= 2). (default: 2)\n",
      "elasticNetParam: the ElasticNet mixing parameter, in range [0, 1]. For alpha = 0, the penalty is an L2 penalty. For alpha = 1, it is an L1 penalty. (default: 0.0)\n",
      "family: The name of family which is a description of the label distribution to be used in the model. Supported options: auto, binomial, multinomial (default: auto)\n",
      "featuresCol: features column name. (default: features)\n",
      "fitIntercept: whether to fit an intercept term. (default: True)\n",
      "labelCol: label column name. (default: label)\n",
      "lowerBoundsOnCoefficients: The lower bounds on coefficients if fitting under bound constrained optimization. The bound matrix must be compatible with the shape (1, number of features) for binomial regression, or (number of classes, number of features) for multinomial regression. (undefined)\n",
      "lowerBoundsOnIntercepts: The lower bounds on intercepts if fitting under bound constrained optimization. The bounds vector size must beequal with 1 for binomial regression, or the number oflasses for multinomial regression. (undefined)\n",
      "maxBlockSizeInMB: maximum memory in MB for stacking input data into blocks. Data is stacked within partitions. If more than remaining data size in a partition then it is adjusted to the data size. Default 0.0 represents choosing optimal value, depends on specific algorithm. Must be >= 0. (default: 0.0)\n",
      "maxIter: max number of iterations (>= 0). (default: 100, current: 10)\n",
      "predictionCol: prediction column name. (default: prediction)\n",
      "probabilityCol: Column name for predicted class conditional probabilities. Note: Not all models output well-calibrated probability estimates! These probabilities should be treated as confidences, not precise probabilities. (default: probability)\n",
      "rawPredictionCol: raw prediction (a.k.a. confidence) column name. (default: rawPrediction)\n",
      "regParam: regularization parameter (>= 0). (default: 0.0, current: 0.01)\n",
      "standardization: whether to standardize the training features before fitting the model. (default: True)\n",
      "threshold: Threshold in binary classification prediction, in range [0, 1]. If threshold and thresholds are both set, they must match.e.g. if threshold is p, then thresholds must be equal to [1-p, p]. (default: 0.5)\n",
      "thresholds: Thresholds in multi-class classification to adjust the probability of predicting each class. Array must have length equal to the number of classes, with values > 0, excepting that at most one value may be 0. The class with largest value p/t is predicted, where p is the original probability of that class and t is the class's threshold. (undefined)\n",
      "tol: the convergence tolerance for iterative algorithms (>= 0). (default: 1e-06)\n",
      "upperBoundsOnCoefficients: The upper bounds on coefficients if fitting under bound constrained optimization. The bound matrix must be compatible with the shape (1, number of features) for binomial regression, or (number of classes, number of features) for multinomial regression. (undefined)\n",
      "upperBoundsOnIntercepts: The upper bounds on intercepts if fitting under bound constrained optimization. The bound vector size must be equal with 1 for binomial regression, or the number of classes for multinomial regression. (undefined)\n",
      "weightCol: weight column name. If this is not set or empty, we treat all instance weights as 1.0. (undefined)\n",
      "\n",
      "Model 1 was fit using parameters: \n",
      "{Param(parent='LogisticRegression_4d3b44d1feee', name='aggregationDepth', doc='suggested depth for treeAggregate (>= 2).'): 2, Param(parent='LogisticRegression_4d3b44d1feee', name='elasticNetParam', doc='the ElasticNet mixing parameter, in range [0, 1]. For alpha = 0, the penalty is an L2 penalty. For alpha = 1, it is an L1 penalty.'): 0.0, Param(parent='LogisticRegression_4d3b44d1feee', name='family', doc='The name of family which is a description of the label distribution to be used in the model. Supported options: auto, binomial, multinomial'): 'auto', Param(parent='LogisticRegression_4d3b44d1feee', name='featuresCol', doc='features column name.'): 'features', Param(parent='LogisticRegression_4d3b44d1feee', name='fitIntercept', doc='whether to fit an intercept term.'): True, Param(parent='LogisticRegression_4d3b44d1feee', name='labelCol', doc='label column name.'): 'label', Param(parent='LogisticRegression_4d3b44d1feee', name='maxBlockSizeInMB', doc='maximum memory in MB for stacking input data into blocks. Data is stacked within partitions. If more than remaining data size in a partition then it is adjusted to the data size. Default 0.0 represents choosing optimal value, depends on specific algorithm. Must be >= 0.'): 0.0, Param(parent='LogisticRegression_4d3b44d1feee', name='maxIter', doc='max number of iterations (>= 0).'): 10, Param(parent='LogisticRegression_4d3b44d1feee', name='predictionCol', doc='prediction column name.'): 'prediction', Param(parent='LogisticRegression_4d3b44d1feee', name='probabilityCol', doc='Column name for predicted class conditional probabilities. Note: Not all models output well-calibrated probability estimates! These probabilities should be treated as confidences, not precise probabilities.'): 'probability', Param(parent='LogisticRegression_4d3b44d1feee', name='rawPredictionCol', doc='raw prediction (a.k.a. confidence) column name.'): 'rawPrediction', Param(parent='LogisticRegression_4d3b44d1feee', name='regParam', doc='regularization parameter (>= 0).'): 0.01, Param(parent='LogisticRegression_4d3b44d1feee', name='standardization', doc='whether to standardize the training features before fitting the model.'): True, Param(parent='LogisticRegression_4d3b44d1feee', name='threshold', doc='Threshold in binary classification prediction, in range [0, 1]. If threshold and thresholds are both set, they must match.e.g. if threshold is p, then thresholds must be equal to [1-p, p].'): 0.5, Param(parent='LogisticRegression_4d3b44d1feee', name='tol', doc='the convergence tolerance for iterative algorithms (>= 0).'): 1e-06}\n",
      "Model 2 was fit using parameters: \n",
      "{Param(parent='LogisticRegression_4d3b44d1feee', name='aggregationDepth', doc='suggested depth for treeAggregate (>= 2).'): 2, Param(parent='LogisticRegression_4d3b44d1feee', name='elasticNetParam', doc='the ElasticNet mixing parameter, in range [0, 1]. For alpha = 0, the penalty is an L2 penalty. For alpha = 1, it is an L1 penalty.'): 0.0, Param(parent='LogisticRegression_4d3b44d1feee', name='family', doc='The name of family which is a description of the label distribution to be used in the model. Supported options: auto, binomial, multinomial'): 'auto', Param(parent='LogisticRegression_4d3b44d1feee', name='featuresCol', doc='features column name.'): 'features', Param(parent='LogisticRegression_4d3b44d1feee', name='fitIntercept', doc='whether to fit an intercept term.'): True, Param(parent='LogisticRegression_4d3b44d1feee', name='labelCol', doc='label column name.'): 'label', Param(parent='LogisticRegression_4d3b44d1feee', name='maxBlockSizeInMB', doc='maximum memory in MB for stacking input data into blocks. Data is stacked within partitions. If more than remaining data size in a partition then it is adjusted to the data size. Default 0.0 represents choosing optimal value, depends on specific algorithm. Must be >= 0.'): 0.0, Param(parent='LogisticRegression_4d3b44d1feee', name='maxIter', doc='max number of iterations (>= 0).'): 30, Param(parent='LogisticRegression_4d3b44d1feee', name='predictionCol', doc='prediction column name.'): 'prediction', Param(parent='LogisticRegression_4d3b44d1feee', name='probabilityCol', doc='Column name for predicted class conditional probabilities. Note: Not all models output well-calibrated probability estimates! These probabilities should be treated as confidences, not precise probabilities.'): 'myProbability', Param(parent='LogisticRegression_4d3b44d1feee', name='rawPredictionCol', doc='raw prediction (a.k.a. confidence) column name.'): 'rawPrediction', Param(parent='LogisticRegression_4d3b44d1feee', name='regParam', doc='regularization parameter (>= 0).'): 0.1, Param(parent='LogisticRegression_4d3b44d1feee', name='standardization', doc='whether to standardize the training features before fitting the model.'): True, Param(parent='LogisticRegression_4d3b44d1feee', name='threshold', doc='Threshold in binary classification prediction, in range [0, 1]. If threshold and thresholds are both set, they must match.e.g. if threshold is p, then thresholds must be equal to [1-p, p].'): 0.55, Param(parent='LogisticRegression_4d3b44d1feee', name='tol', doc='the convergence tolerance for iterative algorithms (>= 0).'): 1e-06}\n"
     ]
    },
    {
     "name": "stdout",
     "output_type": "stream",
     "text": [
      "features=[-1.0,1.5,1.3], label=1.0 -> prob=[0.05707304171034107,0.9429269582896589], prediction=1.0\n",
      "features=[3.0,2.0,-0.1], label=0.0 -> prob=[0.9238522311704136,0.0761477688295864], prediction=0.0\n",
      "features=[0.0,2.2,-1.5], label=1.0 -> prob=[0.10972776114780078,0.8902722388521992], prediction=1.0\n"
     ]
    }
   ],
   "source": [
    "from pyspark.ml.linalg import Vectors\n",
    "from pyspark.ml.classification import LogisticRegression\n",
    "\n",
    "# Prepare training data from a list of (label, features) tuples.\n",
    "training = spark.createDataFrame([\n",
    "    (1.0, Vectors.dense([0.0, 1.1, 0.1])),\n",
    "    (0.0, Vectors.dense([2.0, 1.0, -1.0])),\n",
    "    (0.0, Vectors.dense([2.0, 1.3, 1.0])),\n",
    "    (1.0, Vectors.dense([0.0, 1.2, -0.5]))], [\"label\", \"features\"])\n",
    "\n",
    "# Create a LogisticRegression instance. This instance is an Estimator.\n",
    "lr = LogisticRegression(maxIter=10, regParam=0.01)\n",
    "# Print out the parameters, documentation, and any default values.\n",
    "print(\"LogisticRegression parameters:\\n\" + lr.explainParams() + \"\\n\")\n",
    "\n",
    "# Learn a LogisticRegression model. This uses the parameters stored in lr.\n",
    "model1 = lr.fit(training)\n",
    "\n",
    "# Since model1 is a Model (i.e., a transformer produced by an Estimator),\n",
    "# we can view the parameters it used during fit().\n",
    "# This prints the parameter (name: value) pairs, where names are unique IDs for this\n",
    "# LogisticRegression instance.\n",
    "print(\"Model 1 was fit using parameters: \")\n",
    "print(model1.extractParamMap())\n",
    "\n",
    "# We may alternatively specify parameters using a Python dictionary as a paramMap\n",
    "paramMap = {lr.maxIter: 20}\n",
    "paramMap[lr.maxIter] = 30  # Specify 1 Param, overwriting the original maxIter.\n",
    "# Specify multiple Params.\n",
    "paramMap.update({lr.regParam: 0.1, lr.threshold: 0.55})  # type: ignore\n",
    "\n",
    "# You can combine paramMaps, which are python dictionaries.\n",
    "# Change output column name\n",
    "paramMap2 = {lr.probabilityCol: \"myProbability\"}  # type: ignore\n",
    "paramMapCombined = paramMap.copy()\n",
    "paramMapCombined.update(paramMap2)  # type: ignore\n",
    "\n",
    "# Now learn a new model using the paramMapCombined parameters.\n",
    "# paramMapCombined overrides all parameters set earlier via lr.set* methods.\n",
    "model2 = lr.fit(training, paramMapCombined)\n",
    "print(\"Model 2 was fit using parameters: \")\n",
    "print(model2.extractParamMap())\n",
    "\n",
    "# Prepare test data\n",
    "test = spark.createDataFrame([\n",
    "    (1.0, Vectors.dense([-1.0, 1.5, 1.3])),\n",
    "    (0.0, Vectors.dense([3.0, 2.0, -0.1])),\n",
    "    (1.0, Vectors.dense([0.0, 2.2, -1.5]))], [\"label\", \"features\"])\n",
    "\n",
    "# Make predictions on test data using the Transformer.transform() method.\n",
    "# LogisticRegression.transform will only use the 'features' column.\n",
    "# Note that model2.transform() outputs a \"myProbability\" column instead of the usual\n",
    "# 'probability' column since we renamed the lr.probabilityCol parameter previously.\n",
    "prediction = model2.transform(test)\n",
    "result = prediction.select(\"features\", \"label\", \"myProbability\", \"prediction\") \\\n",
    "    .collect()\n",
    "\n",
    "for row in result:\n",
    "    print(\"features=%s, label=%s -> prob=%s, prediction=%s\"\n",
    "          % (row.features, row.label, row.myProbability, row.prediction))"
   ]
  },
  {
   "cell_type": "markdown",
   "id": "f097f3f1",
   "metadata": {},
   "source": [
    "### Pipeline"
   ]
  },
  {
   "cell_type": "code",
   "execution_count": 25,
   "id": "0c6f4c8c",
   "metadata": {},
   "outputs": [
    {
     "name": "stdout",
     "output_type": "stream",
     "text": [
      "(4, spark i j k) --> prob=[0.1596407738787412,0.8403592261212588], prediction=1.000000\n",
      "(5, l m n) --> prob=[0.8378325685476614,0.16216743145233858], prediction=0.000000\n",
      "(6, spark hadoop spark) --> prob=[0.06926633132976266,0.9307336686702373], prediction=1.000000\n",
      "(7, apache hadoop) --> prob=[0.9821575333444208,0.017842466655579203], prediction=0.000000\n"
     ]
    }
   ],
   "source": [
    "from pyspark.ml import Pipeline\n",
    "from pyspark.ml.classification import LogisticRegression\n",
    "from pyspark.ml.feature import HashingTF, Tokenizer\n",
    "\n",
    "# Prepare training documents from a list of (id, text, label) tuples.\n",
    "training = spark.createDataFrame([\n",
    "    (0, \"a b c d e spark\", 1.0),\n",
    "    (1, \"b d\", 0.0),\n",
    "    (2, \"spark f g h\", 1.0),\n",
    "    (3, \"hadoop mapreduce\", 0.0)\n",
    "], [\"id\", \"text\", \"label\"])\n",
    "\n",
    "# Configure an ML pipeline, which consists of three stages: tokenizer, hashingTF, and lr.\n",
    "tokenizer = Tokenizer(inputCol=\"text\", outputCol=\"words\")\n",
    "hashingTF = HashingTF(inputCol=tokenizer.getOutputCol(), outputCol=\"features\")\n",
    "lr = LogisticRegression(maxIter=10, regParam=0.001)\n",
    "pipeline = Pipeline(stages=[tokenizer, hashingTF, lr])\n",
    "\n",
    "# Fit the pipeline to training documents.\n",
    "model = pipeline.fit(training)\n",
    "\n",
    "# Prepare test documents, which are unlabeled (id, text) tuples.\n",
    "test = spark.createDataFrame([\n",
    "    (4, \"spark i j k\"),\n",
    "    (5, \"l m n\"),\n",
    "    (6, \"spark hadoop spark\"),\n",
    "    (7, \"apache hadoop\")\n",
    "], [\"id\", \"text\"])\n",
    "\n",
    "# Make predictions on test documents and print columns of interest.\n",
    "prediction = model.transform(test)\n",
    "selected = prediction.select(\"id\", \"text\", \"probability\", \"prediction\")\n",
    "for row in selected.collect():\n",
    "    rid, text, prob, prediction = row  # type: ignore\n",
    "    print(\n",
    "        \"(%d, %s) --> prob=%s, prediction=%f\" % (\n",
    "            rid, text, str(prob), prediction   # type: ignore\n",
    "        )\n",
    "    )"
   ]
  },
  {
   "cell_type": "markdown",
   "id": "8fb6eb2f",
   "metadata": {},
   "source": [
    "# Построить модель предсказаний"
   ]
  },
  {
   "cell_type": "code",
   "execution_count": 26,
   "id": "1d71cfc7",
   "metadata": {},
   "outputs": [],
   "source": [
    "from pyspark.ml import Pipeline\n",
    "from pyspark.ml.classification import LogisticRegression\n",
    "from pyspark.ml.feature import HashingTF, Tokenizer\n",
    "from pyspark.sql import Row\n",
    "from pyspark.sql.functions import UserDefinedFunction\n",
    "from pyspark.sql.types import *"
   ]
  },
  {
   "cell_type": "code",
   "execution_count": 27,
   "id": "f7d28ace",
   "metadata": {},
   "outputs": [],
   "source": [
    "df = spark.read.option(\"header\",True).csv(\"Food_Inspections.csv\")"
   ]
  },
  {
   "cell_type": "code",
   "execution_count": 28,
   "id": "e473e0c4",
   "metadata": {},
   "outputs": [
    {
     "name": "stdout",
     "output_type": "stream",
     "text": [
      "root\n",
      " |-- Inspection ID: string (nullable = true)\n",
      " |-- DBA Name: string (nullable = true)\n",
      " |-- AKA Name: string (nullable = true)\n",
      " |-- License #: string (nullable = true)\n",
      " |-- Facility Type: string (nullable = true)\n",
      " |-- Risk: string (nullable = true)\n",
      " |-- Address: string (nullable = true)\n",
      " |-- City: string (nullable = true)\n",
      " |-- State: string (nullable = true)\n",
      " |-- Zip: string (nullable = true)\n",
      " |-- Inspection Date: string (nullable = true)\n",
      " |-- Inspection Type: string (nullable = true)\n",
      " |-- Results: string (nullable = true)\n",
      " |-- Violations: string (nullable = true)\n",
      " |-- Latitude: string (nullable = true)\n",
      " |-- Longitude: string (nullable = true)\n",
      " |-- Location: string (nullable = true)\n",
      "\n"
     ]
    }
   ],
   "source": [
    "df.printSchema()"
   ]
  },
  {
   "cell_type": "code",
   "execution_count": 29,
   "id": "4ad71a39",
   "metadata": {},
   "outputs": [
    {
     "name": "stdout",
     "output_type": "stream",
     "text": [
      "+-------------+-------------------+------------------+---------+--------------------+---------------+--------------------+-------+-----+-----+---------------+--------------------+------------------+--------------------+------------------+------------------+--------------------+\n",
      "|Inspection ID|           DBA Name|          AKA Name|License #|       Facility Type|           Risk|             Address|   City|State|  Zip|Inspection Date|     Inspection Type|           Results|          Violations|          Latitude|         Longitude|            Location|\n",
      "+-------------+-------------------+------------------+---------+--------------------+---------------+--------------------+-------+-----+-----+---------------+--------------------+------------------+--------------------+------------------+------------------+--------------------+\n",
      "|      2484532|             VOLARE|            VOLARE|  2141813|          Restaurant|  Risk 1 (High)|    201 E GRAND AVE |CHICAGO|   IL|60611|     02/04/2021|      Non-Inspection|          No Entry|                null| 41.89165221441017|-87.62260381408842|(-87.622603814088...|\n",
      "|      2473041|ROSATI'S GRANT PARK|          ROSATI'S|  2762683|          Restaurant|  Risk 1 (High)|      23 E ADAMS ST |CHICAGO|   IL|60603|     01/22/2021|             License|              Pass|                null|41.879391313239694|-87.62684825563626|(-87.626848255636...|\n",
      "|      2472595|              PORTO|             PORTO|  2636886|          Restaurant|  Risk 1 (High)| 1600 W CHICAGO AVE |CHICAGO|   IL|60622|     01/12/2021|      Non-Inspection|          No Entry|                null|41.896182324221726|-87.66735606423251|(-87.667356064232...|\n",
      "|      2464010|             BASANT|            BASANT|  2758022|          Restaurant|   Risk 3 (Low)|1939-1943 W BYRON...|CHICAGO|   IL|60613|     12/22/2020|             License|Pass w/ Conditions|                null|  41.9522378735577| -87.6778041059911|(-87.677804105991...|\n",
      "|      2457202|             PI18EN|            PI18EN|  2626471|          Restaurant|  Risk 1 (High)|     1519 W 18TH ST |CHICAGO|   IL|60608|     11/30/2020|      Non-Inspection|          No Entry|                null|  41.8577138739859|-87.66454238198166|(-87.664542381981...|\n",
      "|      2386070|   STREETERS TAVERN|  STREETERS TAVERN|     8864|              TAVERN|   Risk 3 (Low)|48-50 E CHICAGO AVE |CHICAGO|   IL|60611|     08/13/2020|             Canvass|              Pass|                null| 41.89681264961122|-87.62636337526784|(-87.626363375267...|\n",
      "|      2456780|      SUBWAY #44541|     SUBWAY #44541|  2758215|          Restaurant|  Risk 1 (High)|     211 W ADAMS ST |CHICAGO|   IL|60606|     11/18/2020|             License|         Not Ready|                null|41.879272838776735|-87.63410319837826|(-87.634103198378...|\n",
      "|      2456264|        MISS SAIGON|       MISS SAIGON|  2699550|          Restaurant|  Risk 1 (High)|   1129 W ARGYLE ST |CHICAGO|   IL|60640|     11/05/2020|Canvass Re-Inspec...|              Pass|                null| 41.97314767068932|-87.65895612095852|(-87.658956120958...|\n",
      "|      2454146|              GRAZE|             GRAZE|  2642369|          Restaurant|Risk 2 (Medium)|  2401 N HALSTED ST |CHICAGO|   IL|60614|     11/03/2020|             Canvass|   Out of Business|                null| 41.92554752550008|-87.64861834794225|(-87.648618347942...|\n",
      "|      2454019|          TACO MAYA|         TACO MAYA|  2757393|            Catering|  Risk 1 (High)|5055 W DIVERSEY AVE |CHICAGO|   IL|60639|     10/29/2020|             License|         Not Ready|                null| 41.93132774430297|-87.75368264650402|(-87.753682646504...|\n",
      "|      2453719|   LAS ISLAS MARIAS|  LAS ISLAS MARIAS|  1095992|          Restaurant|  Risk 1 (High)|   4770 W GRAND AVE |CHICAGO|   IL|60639|     10/22/2020|           Complaint|              Fail|3. MANAGEMENT, FO...| 41.91399920930635|-87.74586369218258|(-87.745863692182...|\n",
      "|      2453552| CLAMP DOWN BURGERS|              null|  2749943|                null|Risk 2 (Medium)| 1742 W DIVISION ST |CHICAGO|   IL|60622|     10/20/2020|             License|          No Entry|                null|41.903386755553484|-87.67174026586648|(-87.671740265866...|\n",
      "|      2402000|     TORTAZO WILLIS|    TORTAZO WILLIS|  2689749|          Restaurant|  Risk 1 (High)|    233 S WACKER DR |CHICAGO|   IL|60606|     10/05/2020|             Canvass|              Pass|                null| 41.87856015362371|-87.63652387205532|(-87.636523872055...|\n",
      "|      2401782|           NIPSEY'S|          NIPSEY'S|  2637334|          Restaurant|  Risk 1 (High)|9156 S STONY ISLA...|CHICAGO|   IL|60617|     09/29/2020|License Re-Inspec...|              Pass|                null| 41.72795237840198|-87.58558036137349|(-87.585580361373...|\n",
      "|      2401642|       ROOM TO PLAY|      ROOM TO PLAY|  2616931|Children's Servic...|  Risk 1 (High)|    8855 S STATE ST |CHICAGO|   IL|60619|     09/25/2020|             License|              Pass|                null|41.732898130975464|-87.62389415600589|(-87.623894156005...|\n",
      "|      2401262|     Fleming Branch|    Fleming Branch|    23462|              School|  Risk 1 (High)|     4918 W 64th ST |CHICAGO|   IL|60638|     09/16/2020|             Canvass|              Pass|                null|  41.7766510612827|-87.74555107977419|(-87.745551079774...|\n",
      "|      2387142|           Pritzker|          Pritzker|    25871|              School|  Risk 1 (High)| 2009 W Schiller ST |CHICAGO|   IL|60622|     09/14/2020|             Canvass|              Pass|                null|41.907025004582245|-87.67779554588037|(-87.677795545880...|\n",
      "|      2387078| DINNER AND A MOVIE|DINNER AND A MOVIE|  2749481|          Restaurant|  Risk 1 (High)| 2500 N ASHLAND AVE |CHICAGO|   IL|60614|     09/11/2020|             License|              Fail|3. MANAGEMENT, FO...| 41.92705136177427|-87.66835947589291|(-87.668359475892...|\n",
      "|      2386633|             JIN JU|            JIN JU|    27137|          Restaurant|  Risk 1 (High)|    5203 N CLARK ST |CHICAGO|   IL|60640|     08/28/2020|             Canvass|          No Entry|                null| 41.97630115368914|-87.66827593789948|(-87.668275937899...|\n",
      "|      2386595|      LA BIZNAGA #2|     LA BIZNAGA #2|  2708992|                null|  Risk 1 (High)| 2949 W BELMONT AVE |CHICAGO|   IL|60618|     08/27/2020|           Complaint|          No Entry|                null|41.939255926667535|-87.70226967930802|(-87.702269679308...|\n",
      "+-------------+-------------------+------------------+---------+--------------------+---------------+--------------------+-------+-----+-----+---------------+--------------------+------------------+--------------------+------------------+------------------+--------------------+\n",
      "only showing top 20 rows\n",
      "\n"
     ]
    }
   ],
   "source": [
    "df.show()"
   ]
  },
  {
   "cell_type": "code",
   "execution_count": 30,
   "id": "b0574469",
   "metadata": {},
   "outputs": [
    {
     "name": "stdout",
     "output_type": "stream",
     "text": [
      "+-------------+--------------------+---------------+------------------+--------------------+\n",
      "|Inspection ID|            AKA Name|           Risk|           Results|          Violations|\n",
      "+-------------+--------------------+---------------+------------------+--------------------+\n",
      "|      2453719|    LAS ISLAS MARIAS|  Risk 1 (High)|              Fail|3. MANAGEMENT, FO...|\n",
      "|      2387078|  DINNER AND A MOVIE|  Risk 1 (High)|              Fail|3. MANAGEMENT, FO...|\n",
      "|      2370354|              SLIM'S|  Risk 1 (High)|              Fail|1. PERSON IN CHAR...|\n",
      "|      2366898|SHARKS FISH & CHI...|Risk 2 (Medium)|              Fail|1. PERSON IN CHAR...|\n",
      "|      2366716|          JOJI GYROS|  Risk 1 (High)|              Fail|1. PERSON IN CHAR...|\n",
      "|      2366705|        JIMMY'S BEST|  Risk 1 (High)|              Fail|23. PROPER DATE M...|\n",
      "|      2366472|           POKE POKE|  Risk 1 (High)|              Pass|55. PHYSICAL FACI...|\n",
      "|      2366470|        UNCLE  REMUS|  Risk 1 (High)|              Fail|3. MANAGEMENT, FO...|\n",
      "|      2366464|      MISS ASIA, LLC|  Risk 1 (High)|              Fail|3. MANAGEMENT, FO...|\n",
      "|      2365773|   MACAU TASTY HOUSE|  Risk 1 (High)|              Fail|3. MANAGEMENT, FO...|\n",
      "|      2366160|        BAKER MILLER|  Risk 1 (High)|Pass w/ Conditions|10. ADEQUATE HAND...|\n",
      "|      2366149|        DEVON MARKET|  Risk 1 (High)|              Fail|10. ADEQUATE HAND...|\n",
      "|      2365514|KIMBERLI SUSHI BA...|  Risk 1 (High)|              Fail|3. MANAGEMENT, FO...|\n",
      "|      2365494|  CHARTWELL'S DINING|  Risk 1 (High)|Pass w/ Conditions|10. ADEQUATE HAND...|\n",
      "|      2362776|RUIZ ELEMENTARY S...|  Risk 1 (High)|              Pass|53. TOILET FACILI...|\n",
      "|      2362644|    SILOM 12 EXPRESS|  Risk 1 (High)|              Pass|37. FOOD PROPERLY...|\n",
      "|      2362547|MOGADISHU RESTAUR...|  Risk 1 (High)|Pass w/ Conditions|2. CITY OF CHICAG...|\n",
      "|      2360021|        I LOVE SUSHI|  Risk 1 (High)|              Fail|10. ADEQUATE HAND...|\n",
      "|      2359956| DERICE ASIAN CUSINE|  Risk 1 (High)|              Pass|51. PLUMBING INST...|\n",
      "|      2359919|GAYLES'S BEST EVE...|  Risk 1 (High)|              Pass|57. ALL FOOD EMPL...|\n",
      "+-------------+--------------------+---------------+------------------+--------------------+\n",
      "only showing top 20 rows\n",
      "\n"
     ]
    }
   ],
   "source": [
    "data = df.select('Inspection ID','AKA Name','Risk','Results','Violations').filter(f.col('Violations').isNotNull())\n",
    "data.show()"
   ]
  },
  {
   "cell_type": "code",
   "execution_count": 31,
   "id": "ed48a913",
   "metadata": {},
   "outputs": [],
   "source": [
    "data.registerTempTable('CountResults')"
   ]
  },
  {
   "cell_type": "code",
   "execution_count": 32,
   "id": "332f5351",
   "metadata": {},
   "outputs": [
    {
     "data": {
      "text/html": [
       "<div>\n",
       "<style scoped>\n",
       "    .dataframe tbody tr th:only-of-type {\n",
       "        vertical-align: middle;\n",
       "    }\n",
       "\n",
       "    .dataframe tbody tr th {\n",
       "        vertical-align: top;\n",
       "    }\n",
       "\n",
       "    .dataframe thead th {\n",
       "        text-align: right;\n",
       "    }\n",
       "</style>\n",
       "<table border=\"1\" class=\"dataframe\">\n",
       "  <thead>\n",
       "    <tr style=\"text-align: right;\">\n",
       "      <th></th>\n",
       "      <th>cnt</th>\n",
       "      <th>results</th>\n",
       "    </tr>\n",
       "  </thead>\n",
       "  <tbody>\n",
       "    <tr>\n",
       "      <th>0</th>\n",
       "      <td>64</td>\n",
       "      <td>Not Ready</td>\n",
       "    </tr>\n",
       "    <tr>\n",
       "      <th>1</th>\n",
       "      <td>38980</td>\n",
       "      <td>Fail</td>\n",
       "    </tr>\n",
       "    <tr>\n",
       "      <th>2</th>\n",
       "      <td>558</td>\n",
       "      <td>No Entry</td>\n",
       "    </tr>\n",
       "    <tr>\n",
       "      <th>3</th>\n",
       "      <td>32777</td>\n",
       "      <td>Pass w/ Conditions</td>\n",
       "    </tr>\n",
       "    <tr>\n",
       "      <th>4</th>\n",
       "      <td>32</td>\n",
       "      <td>Out of Business</td>\n",
       "    </tr>\n",
       "    <tr>\n",
       "      <th>5</th>\n",
       "      <td>87893</td>\n",
       "      <td>Pass</td>\n",
       "    </tr>\n",
       "  </tbody>\n",
       "</table>\n",
       "</div>"
      ],
      "text/plain": [
       "     cnt             results\n",
       "0     64           Not Ready\n",
       "1  38980                Fail\n",
       "2    558            No Entry\n",
       "3  32777  Pass w/ Conditions\n",
       "4     32     Out of Business\n",
       "5  87893                Pass"
      ]
     },
     "execution_count": 32,
     "metadata": {},
     "output_type": "execute_result"
    }
   ],
   "source": [
    "countResultsdf = spark.sql(\"SELECT COUNT(results) AS cnt, results as results FROM CountResults GROUP BY results\").toPandas()\n",
    "countResultsdf"
   ]
  },
  {
   "cell_type": "code",
   "execution_count": 33,
   "id": "bb0234fd",
   "metadata": {},
   "outputs": [
    {
     "data": {
      "text/plain": [
       "(-1.1107106127842754,\n",
       " 1.1005100291802037,\n",
       " -1.110997380619253,\n",
       " 1.1045455847100134)"
      ]
     },
     "execution_count": 33,
     "metadata": {},
     "output_type": "execute_result"
    },
    {
     "data": {
      "image/png": "[encoded data removed]",
      "text/plain": [
       "<Figure size 432x288 with 1 Axes>"
      ]
     },
     "metadata": {},
     "output_type": "display_data"
    }
   ],
   "source": [
    "%matplotlib inline\n",
    "import matplotlib.pyplot as plt\n",
    "\n",
    "labels = countResultsdf['results']\n",
    "sizes = countResultsdf['cnt']\n",
    "colors = ['turquoise', 'seagreen', 'mediumslateblue', 'palegreen', 'coral']\n",
    "plt.pie(sizes, labels=labels, autopct='%1.1f%%', colors=colors)\n",
    "plt.axis('equal')"
   ]
  },
  {
   "cell_type": "code",
   "execution_count": 34,
   "id": "d478d1d8",
   "metadata": {},
   "outputs": [],
   "source": [
    "def labelForResults(s):\n",
    "    if s == 'Fail':\n",
    "        return 0.0\n",
    "    elif s == 'Pass w/ Conditions' or s == 'Pass':\n",
    "        return 1.0\n",
    "    else:\n",
    "        return -1.0\n",
    "    \n",
    "label = UserDefinedFunction(labelForResults, DoubleType())\n",
    "labeledData = data.select(label(data.Results).alias('label'), data.Violations).where('label >= 0')"
   ]
  },
  {
   "cell_type": "code",
   "execution_count": 35,
   "id": "f91b6f70",
   "metadata": {},
   "outputs": [
    {
     "data": {
      "text/plain": [
       "[Row(label=0.0, Violations='3. MANAGEMENT, FOOD EMPLOYEE AND CONDITIONAL EMPLOYEE; KNOWLEDGE, RESPONSIBILITIES AND REPORTING - Comments: SEE VIOLATION #60.  | 10. ADEQUATE HANDWASHING SINKS PROPERLY SUPPLIED AND ACCESSIBLE - Comments: MUST PROVIDE HAND WASHING SIGNAGE AT ALL WASHBOWL AND HAND WASHING SINKS.\\t | 16. FOOD-CONTACT SURFACES: CLEANED & SANITIZED - Comments: OBSERVED EXCESSIVE AMOUNT OF BLACK AND BROWN, SLIMY, MOLD-LIKE SUBSTANCES THROUGHOUT INTERIOR OF ICE MACHINE, AND COMING IN CONTACT WITH ICE. MUST REMOVE SUBSTANCE, DETAIL CLEAN AND SANITIZE MACHINE. PRIORITY FOUNDATION VIOLATION 7-38-005. CITATION ISSUED.  | 35. APPROVED THAWING METHODS USED - Comments: OBSERVED IMPROPER THAWING METHOD IN USE. OBSERVED FISH AND CRAB SITTING IN STANDING WATER IN 3 COMPARTMENT SINK. (CRAB @ 38.8F AND FISH @ 41F)INSTRUCTED MUST USE ONE OF THE FOLLOWING APPROVED METHOD FOR THAWING: IN REFRIGERATION, IN A MICROWAVE AS PART OF A CONTINUOUS COOKING PROCESS, OR COMPLETELY SUBMERGED UNDER RUNNING WATER WITH SUFFICIENT WATER VELOCITY TO AGITATE AND FLOAT OFF LOOSE PARTICLES IN AN OVERLFOW. MANAGER CORRECTED DURING INSPECTION. | 36. THERMOMETERS PROVIDED & ACCURATE - Comments: MUST PROVIDE A THERMOMETER IN A CONSPICUOUS SPOT INSIDE ALL REFRIGERATION. | 37. FOOD PROPERLY LABELED; ORIGINAL CONTAINER - Comments: MUST WRITE DATE OF LAST PIECE OF SHELLFISH SOLD DIRECTLY ON SHELLFISH TAGS BEFORE FILING. MUST MAINTAIN RECORDS FOR 90 DAYS. | 47. FOOD & NON-FOOD CONTACT SURFACES CLEANABLE, PROPERLY DESIGNED, CONSTRUCTED & USED - Comments: OBSERVED ICE SCOOP IMPROPERLY STORED ON TOP OF GLASSWEAR ON TOP OF ICE MACHINE, AND BOWLS USED AS SCOOPS INSIDE SEVERAL CONTAINERS OF CONDIMENTS. MUST USE SCOOPS WITH HANDLES ONLY, AND MUST STORE INSIDE FOOD WITH HANDLES FACING UP, OR IN A CLEAN, DRY CONTAINER.  | 47. FOOD & NON-FOOD CONTACT SURFACES CLEANABLE, PROPERLY DESIGNED, CONSTRUCTED & USED - Comments: OBSERVED SIDES AND BOTTOMS OF TABLES AND OUTSIDE OF SINKS TO BE HEAVILY SOILED. MUST DETAIL CLEAN AND SANITIZE ALL SURFACES IN REAR PREP AREA. MUST MAINTAIN SAME.\\t | 53. TOILET FACILITIES: PROPERLY CONSTRUCTED, SUPPLIED, & CLEANED - Comments: MUST PROVIDE COVERED RECEPTACLES INSIDE ALL RESTROOMS.  | 55. PHYSICAL FACILITIES INSTALLED, MAINTAINED & CLEAN - Comments: SEE VIOLATION # 60 | 56. ADEQUATE VENTILATION & LIGHTING; DESIGNATED AREAS USED - Comments: OBSERVED INADEQUATE LIGHTING IN COOKING AREA OF PREP. MUST PROVIDE ADEQUATE LIGHTING TO ALLOW FOR PROPER CLEANING.  | 57. ALL FOOD EMPLOYEES HAVE FOOD HANDLER TRAINING - Comments: MUST PROVIDE VALID CERTIFICATES/PROOF OF ENROLLMENT OF FOOD HANDLER TRAINING FOR ALL STAFF THAT HANDLES FOOD, INCLUDING PREP, COOKS, AND WAIT STAFF.\\t | 58. ALLERGEN TRAINING AS REQUIRED - Comments: MUST PROVIDE PROOF OF ALLERGEN TRAINING FOR ALL MANAGERS.\\t | 60. PREVIOUS CORE VIOLATION CORRECTED - Comments: OBSERVED PREVIOUS CORE VIOLATIONS NOT CORRECTED FROM REPORT # 2386929 DATED 9/8/20.  MUST CORRECT THE FOLLOWING CORE VIOLATIONS: # 3 OBSERVED NO EMPLOYEE HEALTH POLICY ON SITE. MUST PROVIDE WRITTEN EMPLOYEE HEALTH POLICY FOR ALL EMPLOYEES. PRIORITY FOUNDATION VIOLATION. 7-38-010. NO CITATION ISSUED.\\t #49 OBSERVED EXCESSIVE GREASE AND DIRT BUILD UP ON STORAGE SHELVES IN THE FRONT FOOD PREP AREA, INTERIORS OF DEEP FRYERS, BROILER, AND GRILL. MUST DETAIL CLEAN AND SANITIZE EQUIPMENT. MUST MAINTAIN SAME. #55 OBSERVED HEAVILY SOILED FLOORS UNDER COOKING EQUIPMENT IN KITCHEN, AND IN REAR PREP AREA. MUST DETAIL CLEAN AND SANITIZE. MUST MAINTAIN SAME.\\t PRIORITY FOUNDATION VIOLATION 7-42-090. CITATION ISSUED.  ')]"
      ]
     },
     "execution_count": 35,
     "metadata": {},
     "output_type": "execute_result"
    }
   ],
   "source": [
    "labeledData.take(1)"
   ]
  },
  {
   "cell_type": "code",
   "execution_count": 36,
   "id": "8e9040c8",
   "metadata": {},
   "outputs": [],
   "source": [
    "train, test = labeledData.randomSplit([0.7, 0.3], seed=13)"
   ]
  },
  {
   "cell_type": "code",
   "execution_count": 37,
   "id": "199f1411",
   "metadata": {},
   "outputs": [],
   "source": [
    "tokenizer = Tokenizer(inputCol=\"Violations\", outputCol=\"words\")\n",
    "hashingTF = HashingTF(inputCol=tokenizer.getOutputCol(), outputCol=\"features\")\n",
    "lr = LogisticRegression(maxIter=10, regParam=0.01)\n",
    "pipeline = Pipeline(stages=[tokenizer, hashingTF, lr])\n",
    "model = pipeline.fit(train)"
   ]
  },
  {
   "cell_type": "code",
   "execution_count": 38,
   "id": "e11a14f9",
   "metadata": {},
   "outputs": [
    {
     "data": {
      "text/plain": [
       "['label',\n",
       " 'Violations',\n",
       " 'words',\n",
       " 'features',\n",
       " 'rawPrediction',\n",
       " 'probability',\n",
       " 'prediction']"
      ]
     },
     "execution_count": 38,
     "metadata": {},
     "output_type": "execute_result"
    }
   ],
   "source": [
    "predictionsDf = model.transform(test)\n",
    "predictionsDf.registerTempTable('Predictions')\n",
    "predictionsDf.columns"
   ]
  },
  {
   "cell_type": "code",
   "execution_count": 39,
   "id": "691df350",
   "metadata": {},
   "outputs": [
    {
     "name": "stdout",
     "output_type": "stream",
     "text": [
      "There were 47809 inspections and there were 44433 successful predictions\n",
      "This is a 92.93856805204041% success rate\n"
     ]
    }
   ],
   "source": [
    "numSuccesses = predictionsDf.where(\"\"\"(prediction = 0 AND label = 0) OR\n",
    "                                        (prediction = 1 AND label = 1)\"\"\").count()\n",
    "numInspections = predictionsDf.count()\n",
    "print(\"There were\", numInspections, \"inspections and there were\", numSuccesses, \"successful predictions\")\n",
    "print(\"This is a\", str((float(numSuccesses) / float(numInspections)) * 100) + \"%\", \"success rate\")"
   ]
  },
  {
   "cell_type": "code",
   "execution_count": 40,
   "id": "00fcfb07",
   "metadata": {},
   "outputs": [],
   "source": [
    "true_positive = spark.sql(\"SELECT count(*) AS cnt FROM Predictions WHERE prediction = 0 AND label = 0\").toPandas()\n",
    "false_positive = spark.sql(\"SELECT count(*) AS cnt FROM Predictions WHERE prediction = 0 AND label = 1\").toPandas()\n",
    "true_negative = spark.sql(\"SELECT count(*) AS cnt FROM Predictions WHERE prediction = 1 AND label = 0\").toPandas()\n",
    "false_negative = spark.sql(\"SELECT count(*) AS cnt FROM Predictions WHERE prediction = 1 AND label = 1\").toPandas()"
   ]
  },
  {
   "cell_type": "code",
   "execution_count": 41,
   "id": "87766f54",
   "metadata": {
    "scrolled": true
   },
   "outputs": [
    {
     "data": {
      "text/plain": [
       "(-1.1046748587624493,\n",
       " 1.1002226159072028,\n",
       " -1.1182454449301418,\n",
       " 1.1201022744142017)"
      ]
     },
     "execution_count": 41,
     "metadata": {},
     "output_type": "execute_result"
    },
    {
     "data": {
      "image/png": "[encoded data removed]",
      "text/plain": [
       "<Figure size 432x288 with 1 Axes>"
      ]
     },
     "metadata": {},
     "output_type": "display_data"
    }
   ],
   "source": [
    "labels = ['True positive', 'False positive', 'False negative', 'True negative']\n",
    "sizes = [true_positive['cnt'][0], false_positive['cnt'][0], false_negative['cnt'][0], true_negative['cnt'][0]]\n",
    "colors = ['turquoise', 'seagreen', 'mediumslateblue', 'palegreen', 'coral']\n",
    "plt.pie(sizes, labels=labels, autopct='%1.1f%%', colors=colors)\n",
    "plt.axis('equal')"
   ]
  }
 ],
 "metadata": {
  "kernelspec": {
   "display_name": "Python 3",
   "language": "python",
   "name": "python3"
  },
  "language_info": {
   "codemirror_mode": {
    "name": "ipython",
    "version": 3
   },
   "file_extension": ".py",
   "mimetype": "text/x-python",
   "name": "python",
   "nbconvert_exporter": "python",
   "pygments_lexer": "ipython3",
   "version": "3.8.8"
  }
 },
 "nbformat": 4,
 "nbformat_minor": 5
}
